{
  "nbformat": 4,
  "nbformat_minor": 0,
  "metadata": {
    "colab": {
      "name": "FastAI.ipynb",
      "provenance": [],
      "collapsed_sections": [],
      "authorship_tag": "ABX9TyMbybtqOKdn/GYbeKjtLffU",
      "include_colab_link": true
    },
    "kernelspec": {
      "name": "python3",
      "display_name": "Python 3"
    },
    "language_info": {
      "name": "python"
    },
    "accelerator": "GPU",
    "gpuClass": "standard"
  },
  "cells": [
    {
      "cell_type": "markdown",
      "metadata": {
        "id": "view-in-github",
        "colab_type": "text"
      },
      "source": [
        "<a href=\"https://colab.research.google.com/github/justinzhao07/fastai/blob/main/FastAI.ipynb\" target=\"_parent\"><img src=\"https://colab.research.google.com/assets/colab-badge.svg\" alt=\"Open In Colab\"/></a>"
      ]
    },
    {
      "cell_type": "code",
      "execution_count": null,
      "metadata": {
        "colab": {
          "base_uri": "https://localhost:8080/"
        },
        "id": "Bap5NyOrw-ka",
        "outputId": "7694e1d4-035f-4901-96a2-f91b3aa91a40"
      },
      "outputs": [
        {
          "output_type": "stream",
          "name": "stdout",
          "text": [
            "\u001b[K     |████████████████████████████████| 719 kB 5.2 MB/s \n",
            "\u001b[K     |████████████████████████████████| 4.4 MB 22.7 MB/s \n",
            "\u001b[K     |████████████████████████████████| 362 kB 25.0 MB/s \n",
            "\u001b[K     |████████████████████████████████| 1.2 MB 31.6 MB/s \n",
            "\u001b[K     |████████████████████████████████| 212 kB 61.1 MB/s \n",
            "\u001b[K     |████████████████████████████████| 101 kB 7.9 MB/s \n",
            "\u001b[K     |████████████████████████████████| 140 kB 45.4 MB/s \n",
            "\u001b[K     |████████████████████████████████| 1.1 MB 61.2 MB/s \n",
            "\u001b[K     |████████████████████████████████| 596 kB 61.6 MB/s \n",
            "\u001b[K     |████████████████████████████████| 127 kB 68.5 MB/s \n",
            "\u001b[K     |████████████████████████████████| 94 kB 4.3 MB/s \n",
            "\u001b[K     |████████████████████████████████| 271 kB 66.4 MB/s \n",
            "\u001b[K     |████████████████████████████████| 144 kB 66.8 MB/s \n",
            "\u001b[K     |████████████████████████████████| 6.6 MB 52.0 MB/s \n",
            "\u001b[31mERROR: pip's dependency resolver does not currently take into account all the packages that are installed. This behaviour is the source of the following dependency conflicts.\n",
            "datascience 0.10.6 requires folium==0.2.1, but you have folium 0.8.3 which is incompatible.\u001b[0m\n",
            "\u001b[?25hMounted at /content/gdrive\n"
          ]
        }
      ],
      "source": [
        "!pip install -Uqq fastbook\n",
        "import fastbook\n",
        "fastbook.setup_book()"
      ]
    },
    {
      "cell_type": "code",
      "source": [
        "from fastbook import *"
      ],
      "metadata": {
        "id": "Q3M1175b2DDS"
      },
      "execution_count": null,
      "outputs": []
    }
  ]
}